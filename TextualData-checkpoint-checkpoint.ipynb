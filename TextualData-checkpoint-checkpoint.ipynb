{
 "cells": [
  {
   "cell_type": "code",
   "execution_count": null,
   "metadata": {},
   "outputs": [],
   "source": [
    "import pandas as pd\n",
    "ordered_satisfaction = ['Very Unhappy', 'Unhappy', 'Neutral', 'Happy', 'Very Happy']\n",
    "print(ordered_satisfaction)\n",
    "df = pd.DataFrame({'satisfaction':['Mad', 'Happy', 'Unhappy', 'Neutral'], 'Unsatisfacton':['Ugly','Bad','Worst','Disgusting']})\n",
    "df"
   ]
  },
  {
   "cell_type": "code",
   "execution_count": null,
   "metadata": {},
   "outputs": [],
   "source": []
  },
  {
   "cell_type": "code",
   "execution_count": null,
   "metadata": {},
   "outputs": [],
   "source": [
    "df['satisfaction2'] = df.satisfaction.astype(pd.api.types.CategoricalDtype(ordered=True, categories=ordered_satisfaction))\n",
    "df"
   ]
  },
  {
   "cell_type": "code",
   "execution_count": null,
   "metadata": {},
   "outputs": [],
   "source": [
    "df.satisfaction = df.satisfaction.astype(pd.api.types.CategoricalDtype(ordered=False, categories=ordered_satisfaction)).cat.codes"
   ]
  },
  {
   "cell_type": "code",
   "execution_count": null,
   "metadata": {},
   "outputs": [],
   "source": [
    "df"
   ]
  },
  {
   "cell_type": "code",
   "execution_count": null,
   "metadata": {},
   "outputs": [],
   "source": [
    "df.satisfaction2=df.satisfaction2.cat.codes\n",
    "df.satisfaction2"
   ]
  },
  {
   "cell_type": "code",
   "execution_count": null,
   "metadata": {},
   "outputs": [],
   "source": [
    "import pandas as pd\n",
    "df = pd.DataFrame({'vertebrates':['Bird','Bird','Mammal','Fish','Amphibian','Reptile','Mammal']})\n",
    "df"
   ]
  },
  {
   "cell_type": "code",
   "execution_count": null,
   "metadata": {},
   "outputs": [],
   "source": [
    "df = pd.get_dummies(df,columns=['vertebrates'])\n",
    "df"
   ]
  },
  {
   "cell_type": "code",
   "execution_count": null,
   "metadata": {},
   "outputs": [],
   "source": [
    "import pandas as pd\n",
    "df = pd.DataFrame({'vertebrates':['Bird','Bird','Mammal','Fish','Amphibian','Reptile','Mammal']})\n",
    "df['vertebrates'] = df.vertebrates.astype(\"category\", ordered=True, categories=).cat.codes\n",
    "df"
   ]
  },
  {
   "cell_type": "code",
   "execution_count": null,
   "metadata": {},
   "outputs": [],
   "source": [
    "from sklearn.feature_extraction.text import CountVectorizer\n",
    "corpus=[\"Authman ran faster than Harry because he is an athlete.\", \"Authman and Harry ran faster and faster.\", \"W00t\", \" Harry is not an athlete but Authman does\"]\n",
    "bow = CountVectorizer()\n",
    "X= bow.fit_transform(corpus)\n",
    "bow.get_feature_names()"
   ]
  },
  {
   "cell_type": "code",
   "execution_count": null,
   "metadata": {},
   "outputs": [],
   "source": [
    "X.toarray()"
   ]
  },
  {
   "cell_type": "code",
   "execution_count": null,
   "metadata": {},
   "outputs": [],
   "source": [
    "from IPython.core.display import Image, display\n",
    "from scipy import misc\n",
    "from PIL import Image as Img\n",
    "py36='DAT210x-master/Images/py36.png'\n",
    "img=misc.imread('DAT210x-master/Images/py36.png')\n",
    "img=img[::2, ::2]\n",
    "X=(img/255.0).reshape(-1)\n",
    "display(Image(py36))\n",
    "display(Img.open(py36))"
   ]
  },
  {
   "cell_type": "code",
   "execution_count": null,
   "metadata": {},
   "outputs": [],
   "source": [
    "from IPython.core.display import Image, display\n",
    "from PIL import Image as Img\n",
    "heart = 'DAT210x-master/Images/heart.PNG'\n",
    "display(Image(heart))\n",
    "display(Img.open(heart))"
   ]
  },
  {
   "cell_type": "code",
   "execution_count": null,
   "metadata": {},
   "outputs": [],
   "source": [
    "from matplotlib.pyplot import imshow\n",
    "import numpy as np\n",
    "from PIL import Image\n",
    "\n",
    "%matplotlib inline\n",
    "pil_im = Image.open('DAT210x-master/Images/Ottoman_empire.jpg', 'r')\n",
    "imshow(np.asarray(pil_im))\n",
    "pil_im = Image.open('DAT210x-master/Images/Ottoman_empire.jpg', 'r')\n",
    "pil_im.show()"
   ]
  }
 ],
 "metadata": {
  "kernelspec": {
   "display_name": "Python 3",
   "language": "python",
   "name": "python3"
  },
  "language_info": {
   "codemirror_mode": {
    "name": "ipython",
    "version": 3
   },
   "file_extension": ".py",
   "mimetype": "text/x-python",
   "name": "python",
   "nbconvert_exporter": "python",
   "pygments_lexer": "ipython3",
   "version": "3.7.0"
  }
 },
 "nbformat": 4,
 "nbformat_minor": 2
}
